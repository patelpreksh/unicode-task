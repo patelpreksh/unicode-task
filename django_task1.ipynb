{
  "nbformat": 4,
  "nbformat_minor": 0,
  "metadata": {
    "colab": {
      "provenance": [],
      "collapsed_sections": [],
      "authorship_tag": "ABX9TyPlc87GOfWWaadgtDA3viKh",
      "include_colab_link": true
    },
    "kernelspec": {
      "name": "python3",
      "display_name": "Python 3"
    },
    "language_info": {
      "name": "python"
    }
  },
  "cells": [
    {
      "cell_type": "markdown",
      "metadata": {
        "id": "view-in-github",
        "colab_type": "text"
      },
      "source": [
        "<a href=\"https://colab.research.google.com/github/patelpreksh/unicode-task/blob/main/django_task1.ipynb\" target=\"_parent\"><img src=\"https://colab.research.google.com/assets/colab-badge.svg\" alt=\"Open In Colab\"/></a>"
      ]
    },
    {
      "cell_type": "code",
      "source": [
        "print(\"Enter lower range:\")\n",
        "r1=int(input())\n",
        "print(\"Enter upper range:\")\n",
        "r2=int(input())"
      ],
      "metadata": {
        "colab": {
          "base_uri": "https://localhost:8080/"
        },
        "id": "i2FkZ5fDv9Nx",
        "outputId": "88d38346-b6af-4ca7-e45a-4be833132611"
      },
      "execution_count": 3,
      "outputs": [
        {
          "name": "stdout",
          "output_type": "stream",
          "text": [
            "Enter lower range:\n",
            "2\n",
            "Enter upper range:\n",
            "7\n"
          ]
        }
      ]
    },
    {
      "cell_type": "code",
      "source": [
        "for i in range(r1,r2):\n",
        "   \n",
        "  print(i)\n",
        "\n"
      ],
      "metadata": {
        "colab": {
          "base_uri": "https://localhost:8080/"
        },
        "id": "voc0V_8Cwg4x",
        "outputId": "863c908d-27ba-451f-a517-a2ec1011538e"
      },
      "execution_count": 4,
      "outputs": [
        {
          "output_type": "stream",
          "name": "stdout",
          "text": [
            "2\n",
            "3\n",
            "4\n",
            "5\n",
            "6\n"
          ]
        }
      ]
    },
    {
      "cell_type": "code",
      "source": [
        "def adjacentSet(i):\n",
        "    return (i & (i >> 1))\n",
        "  \n",
        "# Driver Code\n",
        "values=[]\n",
        "for i in range(r1,r2):\n",
        "    if (adjacentSet(i)):\n",
        "       values.append(\"True\")\n",
        "    else:\n",
        "        values.append( \"False\")\n",
        "\n"
      ],
      "metadata": {
        "id": "0EEO_Pf153Gr"
      },
      "execution_count": 5,
      "outputs": []
    },
    {
      "cell_type": "code",
      "source": [
        "def keys(r1,r2):\n",
        "  return list(range(r1,r2+1))"
      ],
      "metadata": {
        "id": "hmqQI9IcJRgt"
      },
      "execution_count": 6,
      "outputs": []
    },
    {
      "cell_type": "code",
      "source": [
        "new_dict={}\n",
        "new_dict = dict(zip(keys(r1,r2),values))\n",
        "print(new_dict)"
      ],
      "metadata": {
        "colab": {
          "base_uri": "https://localhost:8080/"
        },
        "id": "MAUD14jqJcaM",
        "outputId": "2346d330-2aba-402e-c414-e9aaba5a06c1"
      },
      "execution_count": 7,
      "outputs": [
        {
          "output_type": "stream",
          "name": "stdout",
          "text": [
            "{2: 'False', 3: 'True', 4: 'False', 5: 'False', 6: 'True'}\n"
          ]
        }
      ]
    },
    {
      "cell_type": "code",
      "source": [
        "file=open(\"preksha django1\",'a')\n"
      ],
      "metadata": {
        "id": "9zEHiraSQD6y"
      },
      "execution_count": 8,
      "outputs": []
    },
    {
      "cell_type": "code",
      "source": [
        "file = open(\"preksha django1\", \"w\")\n",
        "file.write(\"preksha django task1\")\n",
        "file.close()\n"
      ],
      "metadata": {
        "id": "CjDlSYyNUgOU"
      },
      "execution_count": 9,
      "outputs": []
    },
    {
      "cell_type": "code",
      "source": [
        "file=open(\"preksha django1\",'r')\n",
        "print(file.read())"
      ],
      "metadata": {
        "colab": {
          "base_uri": "https://localhost:8080/"
        },
        "id": "Zgri3stJULtX",
        "outputId": "e25a1ab1-67f9-4cb3-968c-624e7fe8a289"
      },
      "execution_count": 10,
      "outputs": [
        {
          "output_type": "stream",
          "name": "stdout",
          "text": [
            "preksha django task1\n"
          ]
        }
      ]
    }
  ]
}